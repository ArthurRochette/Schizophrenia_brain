{
 "cells": [
  {
   "cell_type": "code",
   "execution_count": 1,
   "metadata": {},
   "outputs": [],
   "source": [
    "%load_ext autoreload\n",
    "%autoreload 2"
   ]
  },
  {
   "cell_type": "code",
   "execution_count": null,
   "metadata": {},
   "outputs": [],
   "source": [
    "\"\"\"\n",
    "datalad clone giturl.git\n",
    "\n",
    "../anat (choisir le dossier à récupérer)\n",
    "\n",
    "decompresser les fichiers .nii.gz\n",
    "\"\"\""
   ]
  },
  {
   "cell_type": "code",
   "execution_count": 3,
   "metadata": {},
   "outputs": [],
   "source": [
    "!datalad get ds004302/sub-01/anat/sub-01_T1w.nii.gz\n",
    "# decompress the ds00432/sub-01/anat/sub-01_T1w.nii.gz file\n",
    "!gunzip -f ds004302/sub-01/anat/sub-01_T1w.nii.gz\n"
   ]
  },
  {
   "cell_type": "code",
   "execution_count": 19,
   "metadata": {},
   "outputs": [],
   "source": [
    "!datalad get ds004302/sub-01/func/sub-01_task-speech_bold.nii.gz\n",
    "# decompress the ds00432/sub-01/func/sub-01_task-speech_bold.nii.gz file\n",
    "!gunzip -f ds004302/sub-01/func/sub-01_task-speech_bold.nii.gz"
   ]
  },
  {
   "cell_type": "code",
   "execution_count": 31,
   "metadata": {},
   "outputs": [
    {
     "data": {
      "application/vnd.jupyter.widget-view+json": {
       "model_id": "274f77e20ea64542aedbeb52969c4317",
       "version_major": 2,
       "version_minor": 0
      },
      "text/plain": [
       "interactive(children=(IntSlider(value=88, description='i', max=179, step=2), Output()), _dom_classes=('widget-…"
      ]
     },
     "metadata": {},
     "output_type": "display_data"
    },
    {
     "data": {
      "text/plain": [
       "<function __main__.update_slice(i)>"
      ]
     },
     "execution_count": 31,
     "metadata": {},
     "output_type": "execute_result"
    }
   ],
   "source": [
    "# display nii\n",
    "import nibabel as nib\n",
    "import matplotlib.pyplot as plt\n",
    "import numpy as np\n",
    "\n",
    "# load the nii file\n",
    "img = nib.load('ds004302/sub-01/anat/sub-01_T1w.nii')\n",
    "# get the data\n",
    "data = img.get_fdata()\n",
    "# get the shape of the data\n",
    "data.shape\n",
    "\n",
    "# allow to move the depth axis to the end\n",
    "data = np.moveaxis(data, -1, 0)\n",
    "# get the new shape\n",
    "data.shape\n",
    "\n",
    "\n",
    "# update every second the slice to display\n",
    "def update_slice(i):\n",
    "    plt.imshow(data[i, :, :].T, cmap='gray', origin='lower')\n",
    "    plt.title('Slice %s' % i)\n",
    "    plt.axis('off')\n",
    "\n",
    "\n",
    "# display the slices\n",
    "from ipywidgets import interact\n",
    "interact(update_slice, i=(0, data.shape[0] - 1, 2))\n",
    "\n"
   ]
  },
  {
   "cell_type": "code",
   "execution_count": null,
   "metadata": {},
   "outputs": [],
   "source": []
  }
 ],
 "metadata": {
  "kernelspec": {
   "display_name": "Python 3",
   "language": "python",
   "name": "python3"
  },
  "language_info": {
   "codemirror_mode": {
    "name": "ipython",
    "version": 3
   },
   "file_extension": ".py",
   "mimetype": "text/x-python",
   "name": "python",
   "nbconvert_exporter": "python",
   "pygments_lexer": "ipython3",
   "version": "3.10.12"
  }
 },
 "nbformat": 4,
 "nbformat_minor": 2
}
